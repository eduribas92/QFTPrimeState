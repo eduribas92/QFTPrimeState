{
 "cells": [
  {
   "cell_type": "markdown",
   "metadata": {},
   "source": [
    "<small><i>Eduard Ribas Fernández, Spring 2016</i></small>"
   ]
  },
  {
   "cell_type": "markdown",
   "metadata": {},
   "source": [
    "# TFGF - QFT simulations of the Prime State"
   ]
  },
  {
   "cell_type": "code",
   "execution_count": 1,
   "metadata": {
    "collapsed": true
   },
   "outputs": [],
   "source": [
    "%matplotlib inline\n",
    "\n",
    "# general imports\n",
    "import random\n",
    "import math\n",
    "import sys\n",
    "import time\n",
    "\n",
    "# libraries needed for the QFT\n",
    "from numpy import cumsum, sum, searchsorted\n",
    "from numpy.random import rand\n",
    "import matplotlib.pyplot as plt\n",
    "from operator import itemgetter\n",
    "\n",
    "# libraries needed for complex numbers, fractions and gcd\n",
    "from fractions import Fraction, gcd\n",
    "from decimal import Decimal\n",
    "import cmath"
   ]
  },
  {
   "cell_type": "code",
   "execution_count": 2,
   "metadata": {
    "collapsed": true
   },
   "outputs": [],
   "source": [
    "def sieveOfEratosthenes(n):\n",
    "    \"\"\"\n",
    "    sieveOfEratosthenes(n): return the list of the primes < n.\n",
    "    Code from: <dickinsm@gmail.com>, Nov 30 2006\n",
    "    http://groups.google.com/group/comp.lang.python/msg/f1f10ced88c68c2d\n",
    "    \"\"\"\n",
    "    \n",
    "    sieve = range(3, n, 2)\n",
    "    top = len(sieve)\n",
    "    for si in sieve:\n",
    "        if si:\n",
    "            bottom = (si*si - 3) / 2\n",
    "            if bottom >= top:\n",
    "                break\n",
    "            sieve[bottom::si] = [0] * -((bottom - top) / si) \n",
    "\n",
    "    return [2] + [el for el in sieve if el]"
   ]
  },
  {
   "cell_type": "code",
   "execution_count": 3,
   "metadata": {
    "collapsed": true
   },
   "outputs": [],
   "source": [
    "def modularPrimeCounting(list_Primes, mod, a):\n",
    "    \"\"\" computes the modular Prime Counting Function for primes in list_Pimes equals to a modulo mod\"\"\"\n",
    "    counter_a = 0\n",
    "    for prime in list_Primes:\n",
    "        if( prime % mod == a ):\n",
    "            counter_a += 1\n",
    "            #print prime\n",
    "    #print \"\"\n",
    "    return counter_a"
   ]
  },
  {
   "cell_type": "code",
   "execution_count": 4,
   "metadata": {
    "collapsed": true
   },
   "outputs": [],
   "source": [
    "def qftProbability(N,list_Primes,k):\n",
    "    \"\"\"computes the QFT probabilty P(k) = |f(k)|^2\"\"\"\n",
    "    \n",
    "    summation = 0\n",
    "    for prime in list_Primes:\n",
    "        summation += cmath.exp(2*math.pi*1j*prime*k/N)\n",
    "    return abs(summation)**2"
   ]
  },
  {
   "cell_type": "code",
   "execution_count": 5,
   "metadata": {
    "collapsed": true
   },
   "outputs": [],
   "source": [
    "def qftPeaks(N,list_Primes, pi_N, t1):\n",
    "    \"\"\"computes the QFT peaks\"\"\"\n",
    "    \n",
    "    weights_tuple = []\n",
    "    weights_tuple_normalized = []\n",
    "    for k in range(0,N):\n",
    "        if k % 5000 == 0:\n",
    "            t2 = time.time()\n",
    "            print k, \"([{:.3f} s])\".format(t2 - t1)\n",
    "            t1 = t2\n",
    "            sys.stdout.flush()\n",
    "        weight = qftProbability(N, list_Primes, k)\n",
    "        weights_tuple.append([k,weight])\n",
    "        weights_tuple_normalized.append([k, weight/ float(N*pi_N)])    \n",
    "    return weights_tuple, weights_tuple_normalized, t1"
   ]
  },
  {
   "cell_type": "code",
   "execution_count": 8,
   "metadata": {
    "collapsed": false
   },
   "outputs": [],
   "source": [
    "def QFT_Simulation(N, num_peaks, qubits):\n",
    "    \"\"\"\n",
    "    - simulates the Quantum Fourier transform of the Prime state for primes less than N\n",
    "    - if qubits is true, then it does so with the first power of 2 greater than N\n",
    "    - num_peaks is the number of highests peaks are going to be shown numerically\n",
    "    \"\"\"\n",
    "    \n",
    "    t0 = time.time()\n",
    "    t1 = time.time() \n",
    "    \n",
    "    if qubits:\n",
    "        n = int(math.ceil(math.log(N,2))) # qubits\n",
    "        N = pow(2,n)\n",
    "    list_Primes = sieveOfEratosthenes(N)\n",
    "    pi_N = len(list_Primes)\n",
    "    print \"- Number of Primes, PI(\", N, \") = \", pi_N\n",
    "    print \"- Normalization (divide by): N*PI(N) =\", N*pi_N\n",
    "    \n",
    "    a, b = modularPrimeCounting(list_Primes, 3, 1), modularPrimeCounting(list_Primes, 3, 2)\n",
    "    print \"- Delta_{3;2,1} bias =\", b, \"-\", a, \"=\", b-a\n",
    "    \n",
    "    a, b = modularPrimeCounting(list_Primes, 4, 1), modularPrimeCounting(list_Primes, 4, 3)\n",
    "    print \"- Delta_{4;3,1} Chebyshev bias =\", b, \"-\", a, \"=\", b-a\n",
    "    \n",
    "    a, b = modularPrimeCounting(list_Primes, 6, 1), modularPrimeCounting(list_Primes, 6, 5)\n",
    "    print \"- Delta_{6;5,1} bias =\", b, \"-\", a, \"=\", b-a\n",
    "\n",
    "    maxWeight = []\n",
    "    for i in range(0, num_peaks):\n",
    "        maxWeight.append([0,0])\n",
    "    \n",
    "    weights_tuple = []\n",
    "    t2 = time.time()\n",
    "    print \"\\nComputing QFT: ({:.3f} s)\".format(t2 - t0)\n",
    "    t1 = t2\n",
    "    sys.stdout.flush()\n",
    "    weights_tuple, weights_tuple_normalized, t1 = qftPeaks(N,list_Primes, pi_N, t1)\n",
    "    \n",
    "    maxWeight_sorted = sorted( weights_tuple, key=itemgetter(1) )[N-num_peaks:]\n",
    "    maxWeight_normalized_sorted = sorted( weights_tuple_normalized, key=itemgetter(1) )[N-num_peaks:]\n",
    "    \n",
    "    highest_peak = pi_N/float(N)\n",
    "    print \"\\n\", num_peaks, \"highests peaks:\"\n",
    "    print \"\\tk \\tvalue\\tvalue_norm\\tproportion\\t(position)\"\n",
    "    print \"\\t\", \"-\"*60\n",
    "    for i in reversed(range(0,num_peaks)):\n",
    "        print \"\\t{}\\t{:.1f}\\t{:.10f}\\t{:.3f}\\t\\t({:.3f})\".format(maxWeight_sorted[i][0], maxWeight_sorted[i][1], maxWeight_normalized_sorted[i][1], maxWeight_normalized_sorted[i][1] / highest_peak, maxWeight_sorted[i][0]/float(N))\n",
    "    \n",
    "    fraction = 8\n",
    "    t2 = time.time()\n",
    "    print \"\\nComputing peaks (normalized) of fraction {}: ({:.3f} s)\".format(fraction, t2 - t0)\n",
    "    t1 = t2\n",
    "    sys.stdout.flush()\n",
    "    for k in range(0,fraction):\n",
    "        print \"\\tP({}*N/{}) = {}\\n\\t\\t  ({})\".format(k, fraction, weights_tuple[k*N/fraction][1], weights_tuple_normalized[k*N/fraction][1])\n",
    "     \n",
    "    fraction = 6\n",
    "    t2 = time.time()\n",
    "    print \"\\nComputing peaks (normalized) of fraction {}: ({:.3f} s)\".format(fraction, t2 - t0)\n",
    "    t1 = t2\n",
    "    sys.stdout.flush()\n",
    "    for k in range(0,fraction):\n",
    "        print \"\\tP({}*N/{}) = {}\\n\\t\\t  ({})\".format(k, fraction, weights_tuple[k*N/fraction][1], weights_tuple_normalized[k*N/fraction][1])    \n",
    "    \n",
    "    print \"\"\n",
    "    \n",
    "    plt.close()\n",
    "    plt.plot(zip(*weights_tuple_normalized)[1], 'b')\n",
    "\n",
    "    limit_X = N / 20\n",
    "    limit_Y = maxWeight_normalized_sorted[-1][1] / 20\n",
    "    plt.axis( [ -limit_X , N + limit_X , -limit_Y , maxWeight_normalized_sorted[-1][1] + limit_Y ], figsize=(8, 10), dpi=500)\n",
    "    plt.xlabel(\"Register\")\n",
    "    plt.ylabel(\"Probability\")\n",
    "    \n",
    "    t2 = time.time()\n",
    "    print \"\\nDONE! ({:.3f} s)\".format(t2 - t0)\n",
    "    sys.stdout.flush()"
   ]
  },
  {
   "cell_type": "markdown",
   "metadata": {},
   "source": [
    "## N = 16"
   ]
  },
  {
   "cell_type": "code",
   "execution_count": 9,
   "metadata": {
    "collapsed": false
   },
   "outputs": [
    {
     "name": "stdout",
     "output_type": "stream",
     "text": [
      "- Number of Primes, PI( 16 ) =  6\n",
      "- Normalization (divide by): N*PI(N) = 96\n",
      "- Delta_{3;2,1} bias = 3 - 2 = 1\n",
      "- Delta_{4;3,1} Chebyshev bias = 3 - 2 = 1\n",
      "- Delta_{6;5,1} bias = 2 - 2 = 0\n",
      "\n",
      "Computing QFT: (0.000 s)\n",
      "0 ([0.001 s])\n",
      "\n",
      "7 highests peaks:\n",
      "\tk \tvalue\tvalue_norm\tproportion\t(position)\n",
      "\t------------------------------------------------------------\n",
      "\t0\t36.0\t0.3750000000\t1.000\t\t(0.000)\n",
      "\t8\t16.0\t0.1666666667\t0.444\t\t(0.500)\n",
      "\t6\t7.4\t0.0772313913\t0.206\t\t(0.375)\n",
      "\t10\t7.4\t0.0772313913\t0.206\t\t(0.625)\n",
      "\t14\t4.6\t0.0477686087\t0.127\t\t(0.875)\n",
      "\t2\t4.6\t0.0477686087\t0.127\t\t(0.125)\n",
      "\t13\t3.8\t0.0400808236\t0.107\t\t(0.812)\n",
      "\n",
      "Computing peaks (normalized) of fraction 8: (0.002 s)\n",
      "\tP(0*N/8) = 36.0\n",
      "\t\t  (0.375)\n",
      "\tP(1*N/8) = 4.58578643763\n",
      "\t\t  (0.0477686087253)\n",
      "\tP(2*N/8) = 2.0\n",
      "\t\t  (0.0208333333333)\n",
      "\tP(3*N/8) = 7.41421356237\n",
      "\t\t  (0.0772313912747)\n",
      "\tP(4*N/8) = 16.0\n",
      "\t\t  (0.166666666667)\n",
      "\tP(5*N/8) = 7.41421356237\n",
      "\t\t  (0.0772313912747)\n",
      "\tP(6*N/8) = 2.0\n",
      "\t\t  (0.0208333333333)\n",
      "\tP(7*N/8) = 4.58578643763\n",
      "\t\t  (0.0477686087253)\n",
      "\n",
      "Computing peaks (normalized) of fraction 6: (0.003 s)\n",
      "\tP(0*N/6) = 36.0\n",
      "\t\t  (0.375)\n",
      "\tP(1*N/6) = 4.58578643763\n",
      "\t\t  (0.0477686087253)\n",
      "\tP(2*N/6) = 0.152240934977\n",
      "\t\t  (0.00158584307268)\n",
      "\tP(3*N/6) = 16.0\n",
      "\t\t  (0.166666666667)\n",
      "\tP(4*N/6) = 7.41421356237\n",
      "\t\t  (0.0772313912747)\n",
      "\tP(5*N/6) = 3.84775906502\n",
      "\t\t  (0.040080823594)\n",
      "\n"
     ]
    },
    {
     "data": {
      "image/png": "[encoded data removed]",
      "text/plain": [
       "<matplotlib.figure.Figure at 0x105803c90>"
      ]
     },
     "metadata": {},
     "output_type": "display_data"
    },
    {
     "name": "stdout",
     "output_type": "stream",
     "text": [
      "\n",
      "DONE! (0.204 s)\n"
     ]
    }
   ],
   "source": [
    "QFT_Simulation(10, 7, True)"
   ]
  },
  {
   "cell_type": "markdown",
   "metadata": {},
   "source": [
    "## N = 128"
   ]
  },
  {
   "cell_type": "code",
   "execution_count": 32,
   "metadata": {
    "collapsed": false
   },
   "outputs": [
    {
     "name": "stdout",
     "output_type": "stream",
     "text": [
      "- Number of Primes, PI( 128 ) =  31\n",
      "- Normalization (divide by): N*PI(N) = 3968\n",
      "- Delta_{3;2,1} bias = 16 - 14 = 2\n",
      "- Delta_{4;3,1} Chebyshev bias = 16 - 14 = 2\n",
      "- Delta_{6;5,1} bias = 15 - 14 = 1\n",
      "\n",
      "Computing QFT: (0.000 s)\n",
      "0 ([0.001 s])\n",
      "\n",
      "7 highests peaks:\n",
      "\tk \tvalue\tvalue_norm\tproportion\t(position)\n",
      "\t------------------------------------------------------------\n",
      "\t0\t961.0\t0.2421875000\t1.000\t\t(0.000)\n",
      "\t64\t841.0\t0.2119455645\t0.875\t\t(0.500)\n",
      "\t85\t183.1\t0.0461484299\t0.191\t\t(0.664)\n",
      "\t43\t183.1\t0.0461484299\t0.191\t\t(0.336)\n",
      "\t21\t133.0\t0.0335177675\t0.138\t\t(0.164)\n",
      "\t107\t133.0\t0.0335177675\t0.138\t\t(0.836)\n",
      "\t22\t43.3\t0.0109153605\t0.045\t\t(0.172)\n",
      "\n",
      "Computing peaks (normalized) of fraction 8: (0.008 s)\n",
      "\tP(0*N/8) = 961.0\n",
      "\t\t  (0.2421875)\n",
      "\tP(1*N/8) = 2.17157287525\n",
      "\t\t  (0.000547271389933)\n",
      "\tP(2*N/8) = 5.0\n",
      "\t\t  (0.00126008064516)\n",
      "\tP(3*N/8) = 7.82842712475\n",
      "\t\t  (0.00197288990039)\n",
      "\tP(4*N/8) = 841.0\n",
      "\t\t  (0.211945564516)\n",
      "\tP(5*N/8) = 7.82842712475\n",
      "\t\t  (0.00197288990039)\n",
      "\tP(6*N/8) = 5.0\n",
      "\t\t  (0.00126008064516)\n",
      "\tP(7*N/8) = 2.17157287525\n",
      "\t\t  (0.000547271389933)\n",
      "\n",
      "Computing peaks (normalized) of fraction 6: (0.008 s)\n",
      "\tP(0*N/6) = 961.0\n",
      "\t\t  (0.2421875)\n",
      "\tP(1*N/6) = 132.998501588\n",
      "\t\t  (0.0335177675373)\n",
      "\tP(2*N/6) = 21.7361931835\n",
      "\t\t  (0.005477871266)\n",
      "\tP(3*N/6) = 841.0\n",
      "\t\t  (0.211945564516)\n",
      "\tP(4*N/6) = 183.11696974\n",
      "\t\t  (0.0461484298739)\n",
      "\tP(5*N/6) = 43.3121504317\n",
      "\t\t  (0.0109153604919)\n",
      "\n",
      "\n",
      "DONE! (0.082 s)\n"
     ]
    },
    {
     "data": {
      "image/png": "[encoded data removed]",
      "text/plain": [
       "<matplotlib.figure.Figure at 0x105bb00d0>"
      ]
     },
     "metadata": {},
     "output_type": "display_data"
    }
   ],
   "source": [
    "QFT_Simulation(100, 7, True)"
   ]
  },
  {
   "cell_type": "markdown",
   "metadata": {},
   "source": [
    "## N = 300"
   ]
  },
  {
   "cell_type": "code",
   "execution_count": 33,
   "metadata": {
    "collapsed": false
   },
   "outputs": [
    {
     "name": "stdout",
     "output_type": "stream",
     "text": [
      "- Number of Primes, PI( 300 ) =  62\n",
      "- Normalization (divide by): N*PI(N) = 18600\n",
      "- Delta_{3;2,1} bias = 33 - 28 = 5\n",
      "- Delta_{4;3,1} Chebyshev bias = 32 - 29 = 3\n",
      "- Delta_{6;5,1} bias = 32 - 28 = 4\n",
      "\n",
      "Computing QFT: (0.001 s)\n",
      "0 ([0.001 s])\n",
      "\n",
      "7 highests peaks:\n",
      "\tk \tvalue\tvalue_norm\tproportion\t(position)\n",
      "\t------------------------------------------------------------\n",
      "\t0\t3844.0\t0.2066666667\t1.000\t\t(0.000)\n",
      "\t150\t3600.0\t0.1935483871\t0.937\t\t(0.500)\n",
      "\t200\t889.0\t0.0477956989\t0.231\t\t(0.667)\n",
      "\t100\t889.0\t0.0477956989\t0.231\t\t(0.333)\n",
      "\t250\t819.0\t0.0440322581\t0.213\t\t(0.833)\n",
      "\t50\t819.0\t0.0440322581\t0.213\t\t(0.167)\n",
      "\t60\t292.3\t0.0157130311\t0.076\t\t(0.200)\n",
      "\n",
      "Computing peaks (normalized) of fraction 8: (0.022 s)\n",
      "\tP(0*N/8) = 3844.0\n",
      "\t\t  (0.206666666667)\n",
      "\tP(1*N/8) = 23.4236615215\n",
      "\t\t  (0.00125933664094)\n",
      "\tP(2*N/8) = 10.0\n",
      "\t\t  (0.000537634408602)\n",
      "\tP(3*N/8) = 4.12448248033\n",
      "\t\t  (0.00022174636991)\n",
      "\tP(4*N/8) = 3600.0\n",
      "\t\t  (0.193548387097)\n",
      "\tP(5*N/8) = 17.1443207637\n",
      "\t\t  (0.000921737675466)\n",
      "\tP(6*N/8) = 10.0\n",
      "\t\t  (0.000537634408602)\n",
      "\tP(7*N/8) = 0.126612890642\n",
      "\t\t  (6.80714465815e-06)\n",
      "\n",
      "Computing peaks (normalized) of fraction 6: (0.022 s)\n",
      "\tP(0*N/6) = 3844.0\n",
      "\t\t  (0.206666666667)\n",
      "\tP(1*N/6) = 819.0\n",
      "\t\t  (0.0440322580645)\n",
      "\tP(2*N/6) = 889.0\n",
      "\t\t  (0.0477956989247)\n",
      "\tP(3*N/6) = 3600.0\n",
      "\t\t  (0.193548387097)\n",
      "\tP(4*N/6) = 889.0\n",
      "\t\t  (0.0477956989247)\n",
      "\tP(5*N/6) = 819.0\n",
      "\t\t  (0.0440322580645)\n",
      "\n",
      "\n",
      "DONE! (0.079 s)\n"
     ]
    },
    {
     "data": {
      "image/png": "[encoded data removed]",
      "text/plain": [
       "<matplotlib.figure.Figure at 0x105d3fc10>"
      ]
     },
     "metadata": {},
     "output_type": "display_data"
    }
   ],
   "source": [
    "QFT_Simulation(300, 7, False)"
   ]
  },
  {
   "cell_type": "markdown",
   "metadata": {},
   "source": [
    "## N = 1024"
   ]
  },
  {
   "cell_type": "code",
   "execution_count": 34,
   "metadata": {
    "collapsed": false
   },
   "outputs": [
    {
     "name": "stdout",
     "output_type": "stream",
     "text": [
      "- Number of Primes, PI( 1024 ) =  172\n",
      "- Normalization (divide by): N*PI(N) = 176128\n",
      "- Delta_{3;2,1} bias = 89 - 82 = 7\n",
      "- Delta_{4;3,1} Chebyshev bias = 88 - 83 = 5\n",
      "- Delta_{6;5,1} bias = 88 - 82 = 6\n",
      "\n",
      "Computing QFT: (0.001 s)\n",
      "0 ([0.001 s])\n",
      "\n",
      "7 highests peaks:\n",
      "\tk \tvalue\tvalue_norm\tproportion\t(position)\n",
      "\t------------------------------------------------------------\n",
      "\t0\t29584.0\t0.1679687500\t1.000\t\t(0.000)\n",
      "\t512\t28900.0\t0.1640852108\t0.977\t\t(0.500)\n",
      "\t171\t4798.3\t0.0272432078\t0.162\t\t(0.167)\n",
      "\t853\t4798.3\t0.0272432078\t0.162\t\t(0.833)\n",
      "\t683\t4694.2\t0.0266521578\t0.159\t\t(0.667)\n",
      "\t341\t4694.2\t0.0266521578\t0.159\t\t(0.333)\n",
      "\t819\t1978.2\t0.0112315235\t0.067\t\t(0.800)\n",
      "\n",
      "Computing peaks (normalized) of fraction 8: (0.121 s)\n",
      "\tP(0*N/8) = 29584.0\n",
      "\t\t  (0.16796875)\n",
      "\tP(1*N/8) = 46.9289321881\n",
      "\t\t  (0.000266447879884)\n",
      "\tP(2*N/8) = 26.0\n",
      "\t\t  (0.000147619912791)\n",
      "\tP(3*N/8) = 61.0710678119\n",
      "\t\t  (0.000346742527093)\n",
      "\tP(4*N/8) = 28900.0\n",
      "\t\t  (0.164085210756)\n",
      "\tP(5*N/8) = 61.0710678119\n",
      "\t\t  (0.000346742527093)\n",
      "\tP(6*N/8) = 26.0\n",
      "\t\t  (0.000147619912791)\n",
      "\tP(7*N/8) = 46.9289321881\n",
      "\t\t  (0.000266447879883)\n",
      "\n",
      "Computing peaks (normalized) of fraction 6: (0.122 s)\n",
      "\tP(0*N/6) = 29584.0\n",
      "\t\t  (0.16796875)\n",
      "\tP(1*N/6) = 1122.89876853\n",
      "\t\t  (0.00637546993399)\n",
      "\tP(2*N/6) = 4694.19125562\n",
      "\t\t  (0.0266521578376)\n",
      "\tP(3*N/6) = 28900.0\n",
      "\t\t  (0.164085210756)\n",
      "\tP(4*N/6) = 1214.39965542\n",
      "\t\t  (0.0068949835087)\n",
      "\tP(5*N/6) = 4798.29169942\n",
      "\t\t  (0.0272432077774)\n",
      "\n",
      "\n",
      "DONE! (0.172 s)\n"
     ]
    },
    {
     "data": {
      "image/png": "[encoded data removed]",
      "text/plain": [
       "<matplotlib.figure.Figure at 0x1059cbcd0>"
      ]
     },
     "metadata": {},
     "output_type": "display_data"
    }
   ],
   "source": [
    "QFT_Simulation(1000, 7, True)"
   ]
  },
  {
   "cell_type": "markdown",
   "metadata": {},
   "source": [
    "## N = 16384"
   ]
  },
  {
   "cell_type": "code",
   "execution_count": 35,
   "metadata": {
    "collapsed": false
   },
   "outputs": [
    {
     "name": "stdout",
     "output_type": "stream",
     "text": [
      "- Number of Primes, PI( 16384 ) =  1900\n",
      "- Normalization (divide by): N*PI(N) = 31129600\n",
      "- Delta_{3;2,1} bias = 960 - 939 = 21\n",
      "- Delta_{4;3,1} Chebyshev bias = 958 - 941 = 17\n",
      "- Delta_{6;5,1} bias = 959 - 939 = 20\n",
      "\n",
      "Computing QFT: (0.004 s)\n",
      "0 ([0.001 s])\n",
      "5000 ([5.258 s])\n",
      "10000 ([5.180 s])\n",
      "15000 ([5.467 s])\n",
      "\n",
      "20 highests peaks:\n",
      "\tk \tvalue\tvalue_norm\tproportion\t(position)\n",
      "\t------------------------------------------------------------\n",
      "\t0\t3610000.0\t0.1159667969\t1.000\t\t(0.000)\n",
      "\t8192\t3602404.0\t0.1157227847\t0.998\t\t(0.500)\n",
      "\t2731\t602865.5\t0.0193663108\t0.167\t\t(0.167)\n",
      "\t13653\t602865.5\t0.0193663108\t0.167\t\t(0.833)\n",
      "\t10923\t601548.1\t0.0193239917\t0.167\t\t(0.667)\n",
      "\t5461\t601548.1\t0.0193239917\t0.167\t\t(0.333)\n",
      "\t3277\t206564.5\t0.0066356294\t0.057\t\t(0.200)\n",
      "\t13107\t206564.5\t0.0066356294\t0.057\t\t(0.800)\n",
      "\t11469\t205932.6\t0.0066153302\t0.057\t\t(0.700)\n",
      "\t4915\t205932.6\t0.0066153302\t0.057\t\t(0.300)\n",
      "\t5462\t139437.9\t0.0044792717\t0.039\t\t(0.333)\n",
      "\t10922\t139437.9\t0.0044792717\t0.039\t\t(0.667)\n",
      "\t13654\t138471.3\t0.0044482193\t0.038\t\t(0.833)\n",
      "\t2730\t138471.3\t0.0044482193\t0.038\t\t(0.167)\n",
      "\t6554\t117997.9\t0.0037905357\t0.033\t\t(0.400)\n",
      "\t9830\t117997.9\t0.0037905357\t0.033\t\t(0.600)\n",
      "\t14746\t116953.5\t0.0037569867\t0.032\t\t(0.900)\n",
      "\t1638\t116953.5\t0.0037569867\t0.032\t\t(0.100)\n",
      "\t11703\t93260.0\t0.0029958631\t0.026\t\t(0.714)\n",
      "\t4681\t93260.0\t0.0029958631\t0.026\t\t(0.286)\n",
      "\n",
      "Computing peaks (normalized) of fraction 8: (17.393 s)\n",
      "\tP(0*N/8) = 3610000.0\n",
      "\t\t  (0.115966796875)\n",
      "\tP(1*N/8) = 161.95836944\n",
      "\t\t  (5.20271283407e-06)\n",
      "\tP(2*N/8) = 290.0\n",
      "\t\t  (9.31589226973e-06)\n",
      "\tP(3*N/8) = 210.041630561\n",
      "\t\t  (6.74732828437e-06)\n",
      "\tP(4*N/8) = 3602404.0\n",
      "\t\t  (0.115722784745)\n",
      "\tP(5*N/8) = 210.041630561\n",
      "\t\t  (6.74732828438e-06)\n",
      "\tP(6*N/8) = 290.0\n",
      "\t\t  (9.31589226974e-06)\n",
      "\tP(7*N/8) = 161.958369441\n",
      "\t\t  (5.20271283412e-06)\n",
      "\n",
      "Computing peaks (normalized) of fraction 6: (17.394 s)\n",
      "\tP(0*N/6) = 3610000.0\n",
      "\t\t  (0.115966796875)\n",
      "\tP(1*N/6) = 138471.288326\n",
      "\t\t  (0.00444821932585)\n",
      "\tP(2*N/6) = 601548.131554\n",
      "\t\t  (0.0193239916849)\n",
      "\tP(3*N/6) = 3602404.0\n",
      "\t\t  (0.115722784745)\n",
      "\tP(4*N/6) = 139437.935838\n",
      "\t\t  (0.00447927168477)\n",
      "\tP(5*N/6) = 602865.508253\n",
      "\t\t  (0.0193663107863)\n",
      "\n",
      "\n",
      "DONE! (17.480 s)\n"
     ]
    },
    {
     "data": {
      "image/png": "[encoded data removed]",
      "text/plain": [
       "<matplotlib.figure.Figure at 0x106701e10>"
      ]
     },
     "metadata": {},
     "output_type": "display_data"
    }
   ],
   "source": [
    "QFT_Simulation(10000, 20, True)"
   ]
  },
  {
   "cell_type": "markdown",
   "metadata": {},
   "source": [
    "## N = 30000"
   ]
  },
  {
   "cell_type": "code",
   "execution_count": 36,
   "metadata": {
    "collapsed": false
   },
   "outputs": [
    {
     "name": "stdout",
     "output_type": "stream",
     "text": [
      "- Number of Primes, PI( 30000 ) =  3245\n",
      "- Normalization (divide by): N*PI(N) = 97350000\n",
      "- Delta_{3;2,1} bias = 1634 - 1610 = 24\n",
      "- Delta_{4;3,1} Chebyshev bias = 1633 - 1611 = 22\n",
      "- Delta_{6;5,1} bias = 1633 - 1610 = 23\n",
      "\n",
      "Computing QFT: (0.006 s)\n",
      "0 ([0.001 s])\n",
      "5000 ([9.601 s])\n",
      "10000 ([9.343 s])\n",
      "15000 ([9.284 s])\n",
      "20000 ([9.166 s])\n",
      "25000 ([9.112 s])\n",
      "\n",
      "15 highests peaks:\n",
      "\tk \tvalue\tvalue_norm\tproportion\t(position)\n",
      "\t------------------------------------------------------------\n",
      "\t0\t10530025.0\t0.1081666667\t1.000\t\t(0.000)\n",
      "\t15000\t10517049.0\t0.1080333744\t0.999\t\t(0.500)\n",
      "\t10000\t2628073.0\t0.0269961274\t0.250\t\t(0.333)\n",
      "\t20000\t2628073.0\t0.0269961274\t0.250\t\t(0.667)\n",
      "\t25000\t2624763.0\t0.0269621263\t0.249\t\t(0.833)\n",
      "\t5000\t2624763.0\t0.0269621263\t0.249\t\t(0.167)\n",
      "\t6000\t678079.5\t0.0069653775\t0.064\t\t(0.200)\n",
      "\t24000\t678079.5\t0.0069653775\t0.064\t\t(0.800)\n",
      "\t9000\t675399.9\t0.0069378524\t0.064\t\t(0.300)\n",
      "\t21000\t675399.9\t0.0069378524\t0.064\t\t(0.700)\n",
      "\t3000\t635533.1\t0.0065283315\t0.060\t\t(0.100)\n",
      "\t27000\t635533.1\t0.0065283315\t0.060\t\t(0.900)\n",
      "\t18000\t634545.5\t0.0065181869\t0.060\t\t(0.600)\n",
      "\t12000\t634545.5\t0.0065181869\t0.060\t\t(0.400)\n",
      "\t27857\t267349.3\t0.0027462689\t0.025\t\t(0.929)\n",
      "\n",
      "Computing peaks (normalized) of fraction 8: (55.539 s)\n",
      "\tP(0*N/8) = 10530025.0\n",
      "\t\t  (0.108166666667)\n",
      "\tP(1*N/8) = 334.715728752\n",
      "\t\t  (3.43827148179e-06)\n",
      "\tP(2*N/8) = 485.0\n",
      "\t\t  (4.98202362609e-06)\n",
      "\tP(3*N/8) = 391.284271246\n",
      "\t\t  (4.01935563684e-06)\n",
      "\tP(4*N/8) = 10517049.0\n",
      "\t\t  (0.108033374422)\n",
      "\tP(5*N/8) = 391.284271246\n",
      "\t\t  (4.01935563683e-06)\n",
      "\tP(6*N/8) = 485.000000001\n",
      "\t\t  (4.9820236261e-06)\n",
      "\tP(7*N/8) = 334.71572874\n",
      "\t\t  (3.43827148166e-06)\n",
      "\n",
      "Computing peaks (normalized) of fraction 6: (55.540 s)\n",
      "\tP(0*N/6) = 10530025.0\n",
      "\t\t  (0.108166666667)\n",
      "\tP(1*N/6) = 2624763.0\n",
      "\t\t  (0.0269621263482)\n",
      "\tP(2*N/6) = 2628073.0\n",
      "\t\t  (0.0269961273755)\n",
      "\tP(3*N/6) = 10517049.0\n",
      "\t\t  (0.108033374422)\n",
      "\tP(4*N/6) = 2628073.0\n",
      "\t\t  (0.0269961273754)\n",
      "\tP(5*N/6) = 2624763.0\n",
      "\t\t  (0.0269621263482)\n",
      "\n",
      "\n",
      "DONE! (55.648 s)\n"
     ]
    },
    {
     "data": {
      "image/png": "[encoded data removed]",
      "text/plain": [
       "<matplotlib.figure.Figure at 0x101bf5c10>"
      ]
     },
     "metadata": {},
     "output_type": "display_data"
    }
   ],
   "source": [
    "QFT_Simulation(30000, 15, False)"
   ]
  },
  {
   "cell_type": "markdown",
   "metadata": {},
   "source": [
    "## N = 65536"
   ]
  },
  {
   "cell_type": "code",
   "execution_count": 13,
   "metadata": {
    "collapsed": false
   },
   "outputs": [
    {
     "name": "stdout",
     "output_type": "stream",
     "text": [
      "- Number of Primes, PI( 65536 ) =  6542\n",
      "- Normalization (divide by): N*PI(N) = 428736512\n",
      "- (mod 3) bias: 3282 - 3259 = 23\n",
      "- (mod 4) Chebyshev bias: 3284 - 3257 = 27\n",
      "\n",
      "Computing QFT: (0.009 s)\n",
      "0 ([0.003 s])\n",
      "5000 ([18.540 s])\n",
      "10000 ([18.397 s])\n",
      "15000 ([18.746 s])\n",
      "20000 ([19.829 s])\n",
      "25000 ([19.412 s])\n",
      "30000 ([18.096 s])\n",
      "35000 ([18.166 s])\n",
      "40000 ([18.670 s])\n",
      "45000 ([17.754 s])\n",
      "50000 ([17.726 s])\n",
      "55000 ([17.944 s])\n",
      "60000 ([17.838 s])\n",
      "65000 ([18.280 s])\n",
      "\n",
      "7 highests peaks:\n",
      "\tk \tvalue\tvalue_norm\tproportion\t(position)\n",
      "\t------------------------------------------------------------\n",
      "\t0\t42797764.0\t0.0998229980\t1.000\t\t(0.000)\n",
      "\t32768\t42771600.0\t0.0997619722\t0.999\t\t(0.500)\n",
      "\t10923\t7146696.1\t0.0166692034\t0.167\t\t(0.167)\n",
      "\t54613\t7146696.1\t0.0166692034\t0.167\t\t(0.833)\n",
      "\t43691\t7141994.0\t0.0166582361\t0.167\t\t(0.667)\n",
      "\t21845\t7141994.0\t0.0166582361\t0.167\t\t(0.333)\n",
      "\t52429\t2390840.7\t0.0055764802\t0.056\t\t(0.800)\n",
      "\n",
      "Computing peaks (normalized) of fraction 8: (241.449 s)\n",
      "\tP(0*N/8) = 42797764.0\n",
      "\t\t  (0.0998229980469)\n",
      "\tP(1*N/8) = 977.188816813\n",
      "\t\t  (2.27922929226e-06)\n",
      "\tP(2*N/8) = 730.0\n",
      "\t\t  (1.70267747105e-06)\n",
      "\tP(3*N/8) = 1098.81118322\n",
      "\t\t  (2.5629055433e-06)\n",
      "\tP(4*N/8) = 42771600.0\n",
      "\t\t  (0.0997619722204)\n",
      "\tP(5*N/8) = 1098.81118315\n",
      "\t\t  (2.56290554315e-06)\n",
      "\tP(6*N/8) = 730.000000002\n",
      "\t\t  (1.70267747106e-06)\n",
      "\tP(7*N/8) = 977.18881689\n",
      "\t\t  (2.27922929244e-06)\n",
      "\n",
      "Computing peaks (normalized) of fraction 6: (241.450 s)\n",
      "\tP(0*N/6) = 42797764.0\n",
      "\t\t  (0.0998229980469)\n",
      "\tP(1*N/6) = 1714873.448\n",
      "\t\t  (0.00399983066522)\n",
      "\tP(2*N/6) = 7141994.03491\n",
      "\t\t  (0.0166582360844)\n",
      "\tP(3*N/6) = 42771600.0\n",
      "\t\t  (0.0997619722204)\n",
      "\tP(4*N/6) = 1718192.60503\n",
      "\t\t  (0.00400757238289)\n",
      "\tP(5*N/6) = 7146696.14213\n",
      "\t\t  (0.0166692034434)\n",
      "\n",
      "\n",
      "DONE! (241.562 s)\n"
     ]
    },
    {
     "data": {
      "image/png": "[encoded data removed]",
      "text/plain": [
       "<matplotlib.figure.Figure at 0x10580f310>"
      ]
     },
     "metadata": {},
     "output_type": "display_data"
    }
   ],
   "source": [
    "QFT_Simulation(50000, 7, True)"
   ]
  },
  {
   "cell_type": "markdown",
   "metadata": {},
   "source": [
    "## N = 131072"
   ]
  },
  {
   "cell_type": "code",
   "execution_count": 14,
   "metadata": {
    "collapsed": false
   },
   "outputs": [
    {
     "name": "stdout",
     "output_type": "stream",
     "text": [
      "- Number of Primes, PI( 131072 ) =  12251\n",
      "- Normalization (divide by): N*PI(N) = 1605763072\n",
      "- (mod 3) bias: 6146 - 6104 = 42\n",
      "- (mod 4) Chebyshev bias: 6156 - 6094 = 62\n",
      "\n",
      "Computing QFT: (0.011 s)\n",
      "0 ([0.004 s])\n",
      "5000 ([38.320 s])\n",
      "10000 ([37.332 s])\n",
      "15000 ([34.778 s])\n",
      "20000 ([35.159 s])\n",
      "25000 ([34.774 s])\n",
      "30000 ([35.611 s])\n",
      "35000 ([34.869 s])\n",
      "40000 ([36.340 s])\n",
      "45000 ([37.799 s])\n",
      "50000 ([37.884 s])\n",
      "55000 ([36.263 s])\n",
      "60000 ([35.552 s])\n",
      "65000 ([36.449 s])\n",
      "70000 ([36.479 s])\n",
      "75000 ([37.239 s])\n",
      "80000 ([35.340 s])\n",
      "85000 ([35.438 s])\n",
      "90000 ([36.323 s])\n",
      "95000 ([36.694 s])\n",
      "100000 ([37.966 s])\n",
      "105000 ([36.608 s])\n",
      "110000 ([37.441 s])\n",
      "115000 ([39.802 s])\n",
      "120000 ([37.445 s])\n",
      "125000 ([38.004 s])\n",
      "130000 ([36.786 s])\n",
      "\n",
      "15 highests peaks:\n",
      "\tk \tvalue\tvalue_norm\tproportion\t(position)\n",
      "\t------------------------------------------------------------\n",
      "\t0\t150087001.0\t0.0934677124\t1.000\t\t(0.000)\n",
      "\t65536\t150038001.0\t0.0934371973\t1.000\t\t(0.500)\n",
      "\t43691\t25347757.2\t0.0157854902\t0.169\t\t(0.333)\n",
      "\t87381\t25347757.2\t0.0157854902\t0.169\t\t(0.667)\n",
      "\t109227\t25327650.2\t0.0157729684\t0.169\t\t(0.833)\n",
      "\t21845\t25327650.2\t0.0157729684\t0.169\t\t(0.167)\n",
      "\t52429\t8089321.9\t0.0050376809\t0.054\t\t(0.400)\n",
      "\t78643\t8089321.9\t0.0050376809\t0.054\t\t(0.600)\n",
      "\t117965\t8086226.8\t0.0050357533\t0.054\t\t(0.900)\n",
      "\t13107\t8086226.8\t0.0050357533\t0.054\t\t(0.100)\n",
      "\t21846\t5843625.2\t0.0036391578\t0.039\t\t(0.167)\n",
      "\t109226\t5843625.2\t0.0036391578\t0.039\t\t(0.833)\n",
      "\t87382\t5834076.5\t0.0036332113\t0.039\t\t(0.667)\n",
      "\t43690\t5834076.5\t0.0036332113\t0.039\t\t(0.333)\n",
      "\t104858\t5296462.1\t0.0032984082\t0.035\t\t(0.800)\n",
      "\n",
      "Computing peaks (normalized) of fraction 8: (960.942 s)\n",
      "\tP(0*N/8) = 150087001.0\n",
      "\t\t  (0.0934677124023)\n",
      "\tP(1*N/8) = 2748.51471861\n",
      "\t\t  (1.71165644953e-06)\n",
      "\tP(2*N/8) = 3845.0\n",
      "\t\t  (2.39450020183e-06)\n",
      "\tP(3*N/8) = 2765.48528145\n",
      "\t\t  (1.72222498429e-06)\n",
      "\tP(4*N/8) = 150038001.0\n",
      "\t\t  (0.0934371973152)\n",
      "\tP(5*N/8) = 2765.48528129\n",
      "\t\t  (1.72222498419e-06)\n",
      "\tP(6*N/8) = 3845.0\n",
      "\t\t  (2.39450020183e-06)\n",
      "\tP(7*N/8) = 2748.51471869\n",
      "\t\t  (1.71165644958e-06)\n",
      "\n",
      "Computing peaks (normalized) of fraction 6: (960.942 s)\n",
      "\tP(0*N/6) = 150087001.0\n",
      "\t\t  (0.0934677124023)\n",
      "\tP(1*N/6) = 25327650.1634\n",
      "\t\t  (0.0157729683819)\n",
      "\tP(2*N/6) = 5834076.49357\n",
      "\t\t  (0.00363321127214)\n",
      "\tP(3*N/6) = 150038001.0\n",
      "\t\t  (0.0934371973152)\n",
      "\tP(4*N/6) = 25347757.1592\n",
      "\t\t  (0.0157854901518)\n",
      "\tP(5*N/6) = 5843625.18435\n",
      "\t\t  (0.00363915778501)\n",
      "\n",
      "\n",
      "DONE! (961.107 s)\n"
     ]
    },
    {
     "data": {
      "image/png": "[encoded data removed]",
      "text/plain": [
       "<matplotlib.figure.Figure at 0x1057c3650>"
      ]
     },
     "metadata": {},
     "output_type": "display_data"
    }
   ],
   "source": [
    "QFT_Simulation(100000, 15, True)"
   ]
  }
 ],
 "metadata": {
  "kernelspec": {
   "display_name": "Python 2",
   "language": "python",
   "name": "python2"
  },
  "language_info": {
   "codemirror_mode": {
    "name": "ipython",
    "version": 2
   },
   "file_extension": ".py",
   "mimetype": "text/x-python",
   "name": "python",
   "nbconvert_exporter": "python",
   "pygments_lexer": "ipython2",
   "version": "2.7.10"
  }
 },
 "nbformat": 4,
 "nbformat_minor": 0
}
