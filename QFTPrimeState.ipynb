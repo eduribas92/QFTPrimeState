{
 "cells": [
  {
   "cell_type": "markdown",
   "metadata": {},
   "source": [
    "<small><i>Eduard Ribas Fernández, Spring 2016</i></small>"
   ]
  },
  {
   "cell_type": "markdown",
   "metadata": {},
   "source": [
    "# TFGF - QFT simulations of the Prime State"
   ]
  },
  {
   "cell_type": "code",
   "execution_count": 1,
   "metadata": {
    "collapsed": true
   },
   "outputs": [],
   "source": [
    "%matplotlib inline\n",
    "import QFTPrimeState as QFTPS"
   ]
  },
  {
   "cell_type": "markdown",
   "metadata": {},
   "source": [
    "## N = 16"
   ]
  },
  {
   "cell_type": "code",
   "execution_count": 2,
   "metadata": {
    "collapsed": false
   },
   "outputs": [
    {
     "name": "stdout",
     "output_type": "stream",
     "text": [
      "- Number of Primes, PI( 16 ) =  6\n",
      "- Normalization (divide by): N*PI(N) = 96\n",
      "- Delta_{3;2,1} bias = 3 - 2 = 1\n",
      "- Delta_{4;3,1} Chebyshev bias = 3 - 2 = 1\n",
      "- Delta_{6;5,1} bias = 2 - 2 = 0\n",
      "\n",
      "Computing QFT: (0.000 s)\n",
      "0 ([0.001 s])\n",
      "\n",
      "7 highests peaks:\n",
      "\tk \tvalue\tvalue_norm\tproportion\t(position)\n",
      "\t------------------------------------------------------------\n",
      "\t0\t36.0\t0.3750000000\t1.000\t\t(0.000)\n",
      "\t8\t16.0\t0.1666666667\t0.444\t\t(0.500)\n",
      "\t6\t7.4\t0.0772313913\t0.206\t\t(0.375)\n",
      "\t10\t7.4\t0.0772313913\t0.206\t\t(0.625)\n",
      "\t14\t4.6\t0.0477686087\t0.127\t\t(0.875)\n",
      "\t2\t4.6\t0.0477686087\t0.127\t\t(0.125)\n",
      "\t13\t3.8\t0.0400808236\t0.107\t\t(0.812)\n",
      "\n",
      "Computing peaks (normalized) of fraction 8: (0.002 s)\n",
      "\tP(0*N/8) = 36.0\n",
      "\t\t  (0.375)\n",
      "\tP(1*N/8) = 4.58578643763\n",
      "\t\t  (0.0477686087253)\n",
      "\tP(2*N/8) = 2.0\n",
      "\t\t  (0.0208333333333)\n",
      "\tP(3*N/8) = 7.41421356237\n",
      "\t\t  (0.0772313912747)\n",
      "\tP(4*N/8) = 16.0\n",
      "\t\t  (0.166666666667)\n",
      "\tP(5*N/8) = 7.41421356237\n",
      "\t\t  (0.0772313912747)\n",
      "\tP(6*N/8) = 2.0\n",
      "\t\t  (0.0208333333333)\n",
      "\tP(7*N/8) = 4.58578643763\n",
      "\t\t  (0.0477686087253)\n",
      "\n",
      "Computing peaks (normalized) of fraction 6: (0.003 s)\n",
      "\tP(0*N/6) = 36.0\n",
      "\t\t  (0.375)\n",
      "\tP(1*N/6) = 4.58578643763\n",
      "\t\t  (0.0477686087253)\n",
      "\tP(2*N/6) = 0.152240934977\n",
      "\t\t  (0.00158584307268)\n",
      "\tP(3*N/6) = 16.0\n",
      "\t\t  (0.166666666667)\n",
      "\tP(4*N/6) = 7.41421356237\n",
      "\t\t  (0.0772313912747)\n",
      "\tP(5*N/6) = 3.84775906502\n",
      "\t\t  (0.040080823594)\n",
      "\n"
     ]
    },
    {
     "data": {
      "image/png": "[encoded data removed]",
      "text/plain": [
       "<matplotlib.figure.Figure at 0x1054bfe90>"
      ]
     },
     "metadata": {},
     "output_type": "display_data"
    },
    {
     "name": "stdout",
     "output_type": "stream",
     "text": [
      "\n",
      "DONE! (0.228 s)\n"
     ]
    }
   ],
   "source": [
    "QFTPS.QFT_Simulation(10, True, 7)"
   ]
  },
  {
   "cell_type": "markdown",
   "metadata": {},
   "source": [
    "## N = 128"
   ]
  },
  {
   "cell_type": "code",
   "execution_count": 3,
   "metadata": {
    "collapsed": false
   },
   "outputs": [
    {
     "name": "stdout",
     "output_type": "stream",
     "text": [
      "- Number of Primes, PI( 128 ) =  31\n",
      "- Normalization (divide by): N*PI(N) = 3968\n",
      "- Delta_{3;2,1} bias = 16 - 14 = 2\n",
      "- Delta_{4;3,1} Chebyshev bias = 16 - 14 = 2\n",
      "- Delta_{6;5,1} bias = 15 - 14 = 1\n",
      "\n",
      "Computing QFT: (0.000 s)\n",
      "0 ([0.001 s])\n",
      "\n",
      "7 highests peaks:\n",
      "\tk \tvalue\tvalue_norm\tproportion\t(position)\n",
      "\t------------------------------------------------------------\n",
      "\t0\t961.0\t0.2421875000\t1.000\t\t(0.000)\n",
      "\t64\t841.0\t0.2119455645\t0.875\t\t(0.500)\n",
      "\t85\t183.1\t0.0461484299\t0.191\t\t(0.664)\n",
      "\t43\t183.1\t0.0461484299\t0.191\t\t(0.336)\n",
      "\t21\t133.0\t0.0335177675\t0.138\t\t(0.164)\n",
      "\t107\t133.0\t0.0335177675\t0.138\t\t(0.836)\n",
      "\t22\t43.3\t0.0109153605\t0.045\t\t(0.172)\n",
      "\n",
      "Computing peaks (normalized) of fraction 8: (0.008 s)\n",
      "\tP(0*N/8) = 961.0\n",
      "\t\t  (0.2421875)\n",
      "\tP(1*N/8) = 2.17157287525\n",
      "\t\t  (0.000547271389933)\n",
      "\tP(2*N/8) = 5.0\n",
      "\t\t  (0.00126008064516)\n",
      "\tP(3*N/8) = 7.82842712475\n",
      "\t\t  (0.00197288990039)\n",
      "\tP(4*N/8) = 841.0\n",
      "\t\t  (0.211945564516)\n",
      "\tP(5*N/8) = 7.82842712475\n",
      "\t\t  (0.00197288990039)\n",
      "\tP(6*N/8) = 5.0\n",
      "\t\t  (0.00126008064516)\n",
      "\tP(7*N/8) = 2.17157287525\n",
      "\t\t  (0.000547271389933)\n",
      "\n",
      "Computing peaks (normalized) of fraction 6: (0.009 s)\n",
      "\tP(0*N/6) = 961.0\n",
      "\t\t  (0.2421875)\n",
      "\tP(1*N/6) = 132.998501588\n",
      "\t\t  (0.0335177675373)\n",
      "\tP(2*N/6) = 21.7361931835\n",
      "\t\t  (0.005477871266)\n",
      "\tP(3*N/6) = 841.0\n",
      "\t\t  (0.211945564516)\n",
      "\tP(4*N/6) = 183.11696974\n",
      "\t\t  (0.0461484298739)\n",
      "\tP(5*N/6) = 43.3121504317\n",
      "\t\t  (0.0109153604919)\n",
      "\n"
     ]
    },
    {
     "data": {
      "image/png": "[encoded data removed]",
      "text/plain": [
       "<matplotlib.figure.Figure at 0x103d32c90>"
      ]
     },
     "metadata": {},
     "output_type": "display_data"
    },
    {
     "name": "stdout",
     "output_type": "stream",
     "text": [
      "\n",
      "DONE! (0.195 s)\n"
     ]
    }
   ],
   "source": [
    "QFTPS.QFT_Simulation(100, True, 7)"
   ]
  },
  {
   "cell_type": "markdown",
   "metadata": {},
   "source": [
    "## N = 300"
   ]
  },
  {
   "cell_type": "code",
   "execution_count": 4,
   "metadata": {
    "collapsed": false
   },
   "outputs": [
    {
     "name": "stdout",
     "output_type": "stream",
     "text": [
      "- Number of Primes, PI( 300 ) =  62\n",
      "- Normalization (divide by): N*PI(N) = 18600\n",
      "- Delta_{3;2,1} bias = 33 - 28 = 5\n",
      "- Delta_{4;3,1} Chebyshev bias = 32 - 29 = 3\n",
      "- Delta_{6;5,1} bias = 32 - 28 = 4\n",
      "\n",
      "Computing QFT: (0.001 s)\n",
      "0 ([0.001 s])\n",
      "\n",
      "7 highests peaks:\n",
      "\tk \tvalue\tvalue_norm\tproportion\t(position)\n",
      "\t------------------------------------------------------------\n",
      "\t0\t3844.0\t0.2066666667\t1.000\t\t(0.000)\n",
      "\t150\t3600.0\t0.1935483871\t0.937\t\t(0.500)\n",
      "\t200\t889.0\t0.0477956989\t0.231\t\t(0.667)\n",
      "\t100\t889.0\t0.0477956989\t0.231\t\t(0.333)\n",
      "\t250\t819.0\t0.0440322581\t0.213\t\t(0.833)\n",
      "\t50\t819.0\t0.0440322581\t0.213\t\t(0.167)\n",
      "\t60\t292.3\t0.0157130311\t0.076\t\t(0.200)\n",
      "\n",
      "Computing peaks (normalized) of fraction 8: (0.019 s)\n",
      "\tP(0*N/8) = 3844.0\n",
      "\t\t  (0.206666666667)\n",
      "\tP(1*N/8) = 23.4236615215\n",
      "\t\t  (0.00125933664094)\n",
      "\tP(2*N/8) = 10.0\n",
      "\t\t  (0.000537634408602)\n",
      "\tP(3*N/8) = 4.12448248033\n",
      "\t\t  (0.00022174636991)\n",
      "\tP(4*N/8) = 3600.0\n",
      "\t\t  (0.193548387097)\n",
      "\tP(5*N/8) = 17.1443207637\n",
      "\t\t  (0.000921737675466)\n",
      "\tP(6*N/8) = 10.0\n",
      "\t\t  (0.000537634408602)\n",
      "\tP(7*N/8) = 0.126612890642\n",
      "\t\t  (6.80714465815e-06)\n",
      "\n",
      "Computing peaks (normalized) of fraction 6: (0.021 s)\n",
      "\tP(0*N/6) = 3844.0\n",
      "\t\t  (0.206666666667)\n",
      "\tP(1*N/6) = 819.0\n",
      "\t\t  (0.0440322580645)\n",
      "\tP(2*N/6) = 889.0\n",
      "\t\t  (0.0477956989247)\n",
      "\tP(3*N/6) = 3600.0\n",
      "\t\t  (0.193548387097)\n",
      "\tP(4*N/6) = 889.0\n",
      "\t\t  (0.0477956989247)\n",
      "\tP(5*N/6) = 819.0\n",
      "\t\t  (0.0440322580645)\n",
      "\n"
     ]
    },
    {
     "data": {
      "image/png": "[encoded data removed]",
      "text/plain": [
       "<matplotlib.figure.Figure at 0x10569fe10>"
      ]
     },
     "metadata": {},
     "output_type": "display_data"
    },
    {
     "name": "stdout",
     "output_type": "stream",
     "text": [
      "\n",
      "DONE! (0.222 s)\n"
     ]
    }
   ],
   "source": [
    "QFTPS.QFT_Simulation(300, False, 7)"
   ]
  },
  {
   "cell_type": "markdown",
   "metadata": {},
   "source": [
    "## N = 1024"
   ]
  },
  {
   "cell_type": "code",
   "execution_count": 5,
   "metadata": {
    "collapsed": false
   },
   "outputs": [
    {
     "name": "stdout",
     "output_type": "stream",
     "text": [
      "- Number of Primes, PI( 1024 ) =  172\n",
      "- Normalization (divide by): N*PI(N) = 176128\n",
      "- Delta_{3;2,1} bias = 89 - 82 = 7\n",
      "- Delta_{4;3,1} Chebyshev bias = 88 - 83 = 5\n",
      "- Delta_{6;5,1} bias = 88 - 82 = 6\n",
      "\n",
      "Computing QFT: (0.001 s)\n",
      "0 ([0.001 s])\n",
      "\n",
      "7 highests peaks:\n",
      "\tk \tvalue\tvalue_norm\tproportion\t(position)\n",
      "\t------------------------------------------------------------\n",
      "\t0\t29584.0\t0.1679687500\t1.000\t\t(0.000)\n",
      "\t512\t28900.0\t0.1640852108\t0.977\t\t(0.500)\n",
      "\t171\t4798.3\t0.0272432078\t0.162\t\t(0.167)\n",
      "\t853\t4798.3\t0.0272432078\t0.162\t\t(0.833)\n",
      "\t683\t4694.2\t0.0266521578\t0.159\t\t(0.667)\n",
      "\t341\t4694.2\t0.0266521578\t0.159\t\t(0.333)\n",
      "\t819\t1978.2\t0.0112315235\t0.067\t\t(0.800)\n",
      "\n",
      "Computing peaks (normalized) of fraction 8: (0.127 s)\n",
      "\tP(0*N/8) = 29584.0\n",
      "\t\t  (0.16796875)\n",
      "\tP(1*N/8) = 46.9289321881\n",
      "\t\t  (0.000266447879884)\n",
      "\tP(2*N/8) = 26.0\n",
      "\t\t  (0.000147619912791)\n",
      "\tP(3*N/8) = 61.0710678119\n",
      "\t\t  (0.000346742527093)\n",
      "\tP(4*N/8) = 28900.0\n",
      "\t\t  (0.164085210756)\n",
      "\tP(5*N/8) = 61.0710678119\n",
      "\t\t  (0.000346742527093)\n",
      "\tP(6*N/8) = 26.0\n",
      "\t\t  (0.000147619912791)\n",
      "\tP(7*N/8) = 46.9289321881\n",
      "\t\t  (0.000266447879883)\n",
      "\n",
      "Computing peaks (normalized) of fraction 6: (0.127 s)\n",
      "\tP(0*N/6) = 29584.0\n",
      "\t\t  (0.16796875)\n",
      "\tP(1*N/6) = 1122.89876853\n",
      "\t\t  (0.00637546993399)\n",
      "\tP(2*N/6) = 4694.19125562\n",
      "\t\t  (0.0266521578376)\n",
      "\tP(3*N/6) = 28900.0\n",
      "\t\t  (0.164085210756)\n",
      "\tP(4*N/6) = 1214.39965542\n",
      "\t\t  (0.0068949835087)\n",
      "\tP(5*N/6) = 4798.29169942\n",
      "\t\t  (0.0272432077774)\n",
      "\n"
     ]
    },
    {
     "data": {
      "image/png": "[encoded data removed]",
      "text/plain": [
       "<matplotlib.figure.Figure at 0x1057d9410>"
      ]
     },
     "metadata": {},
     "output_type": "display_data"
    },
    {
     "name": "stdout",
     "output_type": "stream",
     "text": [
      "\n",
      "DONE! (0.269 s)\n"
     ]
    }
   ],
   "source": [
    "QFTPS.QFT_Simulation(1000, True, 7)"
   ]
  },
  {
   "cell_type": "markdown",
   "metadata": {},
   "source": [
    "## N = 16384"
   ]
  },
  {
   "cell_type": "code",
   "execution_count": 6,
   "metadata": {
    "collapsed": false
   },
   "outputs": [
    {
     "name": "stdout",
     "output_type": "stream",
     "text": [
      "- Number of Primes, PI( 16384 ) =  1900\n",
      "- Normalization (divide by): N*PI(N) = 31129600\n",
      "- Delta_{3;2,1} bias = 960 - 939 = 21\n",
      "- Delta_{4;3,1} Chebyshev bias = 958 - 941 = 17\n",
      "- Delta_{6;5,1} bias = 959 - 939 = 20\n",
      "\n",
      "Computing QFT: (0.003 s)\n",
      "0 ([0.001 s])\n",
      "5000 ([6.332 s])\n",
      "10000 ([5.331 s])\n",
      "15000 ([5.270 s])\n",
      "\n",
      "20 highests peaks:\n",
      "\tk \tvalue\tvalue_norm\tproportion\t(position)\n",
      "\t------------------------------------------------------------\n",
      "\t0\t3610000.0\t0.1159667969\t1.000\t\t(0.000)\n",
      "\t8192\t3602404.0\t0.1157227847\t0.998\t\t(0.500)\n",
      "\t2731\t602865.5\t0.0193663108\t0.167\t\t(0.167)\n",
      "\t13653\t602865.5\t0.0193663108\t0.167\t\t(0.833)\n",
      "\t10923\t601548.1\t0.0193239917\t0.167\t\t(0.667)\n",
      "\t5461\t601548.1\t0.0193239917\t0.167\t\t(0.333)\n",
      "\t3277\t206564.5\t0.0066356294\t0.057\t\t(0.200)\n",
      "\t13107\t206564.5\t0.0066356294\t0.057\t\t(0.800)\n",
      "\t11469\t205932.6\t0.0066153302\t0.057\t\t(0.700)\n",
      "\t4915\t205932.6\t0.0066153302\t0.057\t\t(0.300)\n",
      "\t5462\t139437.9\t0.0044792717\t0.039\t\t(0.333)\n",
      "\t10922\t139437.9\t0.0044792717\t0.039\t\t(0.667)\n",
      "\t13654\t138471.3\t0.0044482193\t0.038\t\t(0.833)\n",
      "\t2730\t138471.3\t0.0044482193\t0.038\t\t(0.167)\n",
      "\t6554\t117997.9\t0.0037905357\t0.033\t\t(0.400)\n",
      "\t9830\t117997.9\t0.0037905357\t0.033\t\t(0.600)\n",
      "\t14746\t116953.5\t0.0037569867\t0.032\t\t(0.900)\n",
      "\t1638\t116953.5\t0.0037569867\t0.032\t\t(0.100)\n",
      "\t11703\t93260.0\t0.0029958631\t0.026\t\t(0.714)\n",
      "\t4681\t93260.0\t0.0029958631\t0.026\t\t(0.286)\n",
      "\n",
      "Computing peaks (normalized) of fraction 8: (18.448 s)\n",
      "\tP(0*N/8) = 3610000.0\n",
      "\t\t  (0.115966796875)\n",
      "\tP(1*N/8) = 161.95836944\n",
      "\t\t  (5.20271283407e-06)\n",
      "\tP(2*N/8) = 290.0\n",
      "\t\t  (9.31589226973e-06)\n",
      "\tP(3*N/8) = 210.041630561\n",
      "\t\t  (6.74732828437e-06)\n",
      "\tP(4*N/8) = 3602404.0\n",
      "\t\t  (0.115722784745)\n",
      "\tP(5*N/8) = 210.041630561\n",
      "\t\t  (6.74732828438e-06)\n",
      "\tP(6*N/8) = 290.0\n",
      "\t\t  (9.31589226974e-06)\n",
      "\tP(7*N/8) = 161.958369441\n",
      "\t\t  (5.20271283412e-06)\n",
      "\n",
      "Computing peaks (normalized) of fraction 6: (18.449 s)\n",
      "\tP(0*N/6) = 3610000.0\n",
      "\t\t  (0.115966796875)\n",
      "\tP(1*N/6) = 138471.288326\n",
      "\t\t  (0.00444821932585)\n",
      "\tP(2*N/6) = 601548.131554\n",
      "\t\t  (0.0193239916849)\n",
      "\tP(3*N/6) = 3602404.0\n",
      "\t\t  (0.115722784745)\n",
      "\tP(4*N/6) = 139437.935838\n",
      "\t\t  (0.00447927168477)\n",
      "\tP(5*N/6) = 602865.508253\n",
      "\t\t  (0.0193663107863)\n",
      "\n"
     ]
    },
    {
     "data": {
      "image/png": "[encoded data removed]",
      "text/plain": [
       "<matplotlib.figure.Figure at 0x1057d9d90>"
      ]
     },
     "metadata": {},
     "output_type": "display_data"
    },
    {
     "name": "stdout",
     "output_type": "stream",
     "text": [
      "\n",
      "DONE! (18.632 s)\n"
     ]
    }
   ],
   "source": [
    "QFTPS.QFT_Simulation(10000, True, 20)"
   ]
  },
  {
   "cell_type": "markdown",
   "metadata": {},
   "source": [
    "## N = 30000"
   ]
  },
  {
   "cell_type": "code",
   "execution_count": 7,
   "metadata": {
    "collapsed": false
   },
   "outputs": [
    {
     "name": "stdout",
     "output_type": "stream",
     "text": [
      "- Number of Primes, PI( 30000 ) =  3245\n",
      "- Normalization (divide by): N*PI(N) = 97350000\n",
      "- Delta_{3;2,1} bias = 1634 - 1610 = 24\n",
      "- Delta_{4;3,1} Chebyshev bias = 1633 - 1611 = 22\n",
      "- Delta_{6;5,1} bias = 1633 - 1610 = 23\n",
      "\n",
      "Computing QFT: (0.009 s)\n",
      "0 ([0.004 s])\n",
      "5000 ([9.682 s])\n",
      "10000 ([9.017 s])\n",
      "15000 ([10.343 s])\n",
      "20000 ([9.758 s])\n",
      "25000 ([10.317 s])\n",
      "\n",
      "15 highests peaks:\n",
      "\tk \tvalue\tvalue_norm\tproportion\t(position)\n",
      "\t------------------------------------------------------------\n",
      "\t0\t10530025.0\t0.1081666667\t1.000\t\t(0.000)\n",
      "\t15000\t10517049.0\t0.1080333744\t0.999\t\t(0.500)\n",
      "\t10000\t2628073.0\t0.0269961274\t0.250\t\t(0.333)\n",
      "\t20000\t2628073.0\t0.0269961274\t0.250\t\t(0.667)\n",
      "\t25000\t2624763.0\t0.0269621263\t0.249\t\t(0.833)\n",
      "\t5000\t2624763.0\t0.0269621263\t0.249\t\t(0.167)\n",
      "\t6000\t678079.5\t0.0069653775\t0.064\t\t(0.200)\n",
      "\t24000\t678079.5\t0.0069653775\t0.064\t\t(0.800)\n",
      "\t9000\t675399.9\t0.0069378524\t0.064\t\t(0.300)\n",
      "\t21000\t675399.9\t0.0069378524\t0.064\t\t(0.700)\n",
      "\t3000\t635533.1\t0.0065283315\t0.060\t\t(0.100)\n",
      "\t27000\t635533.1\t0.0065283315\t0.060\t\t(0.900)\n",
      "\t18000\t634545.5\t0.0065181869\t0.060\t\t(0.600)\n",
      "\t12000\t634545.5\t0.0065181869\t0.060\t\t(0.400)\n",
      "\t27857\t267349.3\t0.0027462689\t0.025\t\t(0.929)\n",
      "\n",
      "Computing peaks (normalized) of fraction 8: (58.874 s)\n",
      "\tP(0*N/8) = 10530025.0\n",
      "\t\t  (0.108166666667)\n",
      "\tP(1*N/8) = 334.715728752\n",
      "\t\t  (3.43827148179e-06)\n",
      "\tP(2*N/8) = 485.0\n",
      "\t\t  (4.98202362609e-06)\n",
      "\tP(3*N/8) = 391.284271246\n",
      "\t\t  (4.01935563684e-06)\n",
      "\tP(4*N/8) = 10517049.0\n",
      "\t\t  (0.108033374422)\n",
      "\tP(5*N/8) = 391.284271246\n",
      "\t\t  (4.01935563683e-06)\n",
      "\tP(6*N/8) = 485.000000001\n",
      "\t\t  (4.9820236261e-06)\n",
      "\tP(7*N/8) = 334.71572874\n",
      "\t\t  (3.43827148166e-06)\n",
      "\n",
      "Computing peaks (normalized) of fraction 6: (58.875 s)\n",
      "\tP(0*N/6) = 10530025.0\n",
      "\t\t  (0.108166666667)\n",
      "\tP(1*N/6) = 2624763.0\n",
      "\t\t  (0.0269621263482)\n",
      "\tP(2*N/6) = 2628073.0\n",
      "\t\t  (0.0269961273755)\n",
      "\tP(3*N/6) = 10517049.0\n",
      "\t\t  (0.108033374422)\n",
      "\tP(4*N/6) = 2628073.0\n",
      "\t\t  (0.0269961273754)\n",
      "\tP(5*N/6) = 2624763.0\n",
      "\t\t  (0.0269621263482)\n",
      "\n"
     ]
    },
    {
     "data": {
      "image/png": "[encoded data removed]",
      "text/plain": [
       "<matplotlib.figure.Figure at 0x105a11350>"
      ]
     },
     "metadata": {},
     "output_type": "display_data"
    },
    {
     "name": "stdout",
     "output_type": "stream",
     "text": [
      "\n",
      "DONE! (59.082 s)\n"
     ]
    }
   ],
   "source": [
    "QFTPS.QFT_Simulation(30000, False, 15)"
   ]
  },
  {
   "cell_type": "markdown",
   "metadata": {},
   "source": [
    "## N = 65536"
   ]
  },
  {
   "cell_type": "code",
   "execution_count": null,
   "metadata": {
    "collapsed": false
   },
   "outputs": [],
   "source": [
    "QFTPS.QFT_Simulation(50000, True, 15)"
   ]
  },
  {
   "cell_type": "markdown",
   "metadata": {},
   "source": [
    "## N = 131072"
   ]
  },
  {
   "cell_type": "code",
   "execution_count": null,
   "metadata": {
    "collapsed": false
   },
   "outputs": [],
   "source": [
    "QFTPS.QFT_Simulation(100000, True, 15)"
   ]
  }
 ],
 "metadata": {
  "kernelspec": {
   "display_name": "Python 2",
   "language": "python",
   "name": "python2"
  },
  "language_info": {
   "codemirror_mode": {
    "name": "ipython",
    "version": 2
   },
   "file_extension": ".py",
   "mimetype": "text/x-python",
   "name": "python",
   "nbconvert_exporter": "python",
   "pygments_lexer": "ipython2",
   "version": "2.7.10"
  }
 },
 "nbformat": 4,
 "nbformat_minor": 0
}
